{
 "cells": [
  {
   "cell_type": "code",
   "execution_count": 1,
   "metadata": {},
   "outputs": [],
   "source": [
    "import torch\n",
    "import torch.nn as nn\n",
    "from torch.nn import functional as F\n",
    "device = 'cuda' if torch.cuda.is_available() else 'cpu' \n",
    "block_size = 64\n",
    "batch_size = 128\n",
    "max_iters = 3000\n",
    "learning_rate = 3e-3\n",
    "eval_iters = 100\n",
    "n_embd = 384\n",
    "n_head = 4\n",
    "n_layer = 4\n",
    "dropout = 0.2"
   ]
  },
  {
   "cell_type": "code",
   "execution_count": 3,
   "metadata": {},
   "outputs": [
    {
     "name": "stdout",
     "output_type": "stream",
     "text": [
      "The Picture of Dorian Gray\n",
      "\n",
      "by Oscar Wilde\n",
      "\n",
      "\n",
      "Contents\n",
      "\n",
      " THE PREFACE\n",
      " CHAPTER I.\n",
      " CHAPTER II.\n",
      " CHAPTER III.\n",
      " CHAPTER IV.\n",
      " CHAPTER V.\n",
      " CHAPTER VI.\n",
      " CHAPTER VII.\n",
      " CHAPTER VIII.\n",
      " CHAPTER IX.\n",
      " CHAPTER X.\n",
      "\n"
     ]
    }
   ],
   "source": [
    "with open('dorian picture.txt','r', encoding='utf-8') as f:\n",
    "    text = f.read()\n",
    "print(text[200:400])"
   ]
  },
  {
   "cell_type": "code",
   "execution_count": 4,
   "metadata": {},
   "outputs": [
    {
     "name": "stdout",
     "output_type": "stream",
     "text": [
      "['\\n', ' ', '!', ',', '-', '.', '0', '1', '2', '5', '8', ':', ';', '?', 'A', 'B', 'C', 'D', 'E', 'F', 'G', 'H', 'I', 'J', 'K', 'L', 'M', 'N', 'O', 'P', 'Q', 'R', 'S', 'T', 'U', 'V', 'W', 'X', 'Y', 'Z', '_', 'a', 'b', 'c', 'd', 'e', 'f', 'g', 'h', 'i', 'j', 'k', 'l', 'm', 'n', 'o', 'p', 'q', 'r', 's', 't', 'u', 'v', 'w', 'x', 'y', 'z', 'É', 'à', 'æ', 'ç', 'è', 'é', 'ê', 'ô', '—', '‘', '’', '“', '”', '\\ufeff']\n"
     ]
    }
   ],
   "source": [
    "chars = \"\"\n",
    "vocab_size = len(chars)"
   ]
  },
  {
   "cell_type": "markdown",
   "metadata": {},
   "source": [
    "# Lets create an encode and decode function \n",
    "\n",
    "Only for the characters that are present in the book."
   ]
  },
  {
   "cell_type": "code",
   "execution_count": 5,
   "metadata": {},
   "outputs": [],
   "source": [
    "string_to_int = { ch:i for i,ch in enumerate(chars) }\n",
    "int_to_string = {i:ch for i,ch in enumerate(chars) }\n",
    "encode = lambda s: [string_to_int[c] for c in s]\n",
    "decode = lambda s2: [int_to_string[c] for c in s2]\n",
    "\n",
    "data = torch.tensor(encode(text), dtype = torch.long)"
   ]
  },
  {
   "cell_type": "code",
   "execution_count": 6,
   "metadata": {},
   "outputs": [
    {
     "data": {
      "text/plain": [
       "tensor([80, 33, 48,  ..., 17,  0,  0])"
      ]
     },
     "execution_count": 6,
     "metadata": {},
     "output_type": "execute_result"
    }
   ],
   "source": [
    "data"
   ]
  },
  {
   "cell_type": "markdown",
   "metadata": {},
   "source": [
    "# Get get_batch"
   ]
  },
  {
   "cell_type": "code",
   "execution_count": 7,
   "metadata": {},
   "outputs": [
    {
     "name": "stdout",
     "output_type": "stream",
     "text": [
      "inputs:\n",
      "tensor([[65,  3,  1, 65, 55, 61, 58,  1],\n",
      "        [20, 58, 41, 65,  0, 48, 41, 59],\n",
      "        [58, 45,  1, 41, 54, 44,  1, 32],\n",
      "        [45, 59, 59,  1, 48, 41, 62, 45]], device='cuda:0')\n",
      "targets:\n",
      "tensor([[ 3,  1, 65, 55, 61, 58,  1, 62],\n",
      "        [58, 41, 65,  0, 48, 41, 59,  1],\n",
      "        [45,  1, 41, 54, 44,  1, 32, 55],\n",
      "        [59, 59,  1, 48, 41, 62, 45,  1]], device='cuda:0')\n"
     ]
    }
   ],
   "source": [
    "n = int(0.8*len(data))\n",
    "train_data = data[:n]\n",
    "val_data = data[n:]\n",
    "\n",
    "def get_batch(split):\n",
    "    data = train_data if split == 'train' else val_data\n",
    "    ix = torch.randint(len(data) - block_size, (batch_size,))\n",
    "    #print(ix)\n",
    "    x = torch.stack([data[i:i+block_size] for i in ix])\n",
    "    y = torch.stack([data[i+1:i+block_size + 1] for i in ix])\n",
    "    x, y = x.to(device), y.to(device)\n",
    "    return x,y\n",
    "x,y = get_batch('train')\n",
    "print('inputs:')\n",
    "print(x)\n",
    "print('targets:')\n",
    "print(y)"
   ]
  },
  {
   "cell_type": "markdown",
   "metadata": {},
   "source": [
    "# GPT Language Model \n",
    "\n",
    "What are we doing here:\n",
    "\n",
    "Adding some features to our previous Bigram model"
   ]
  },
  {
   "cell_type": "code",
   "execution_count": 8,
   "metadata": {},
   "outputs": [],
   "source": [
    "@torch.no_grad()\n",
    "def estimate_loss():\n",
    "    out = {}\n",
    "    model.eval()\n",
    "    for split in ['train','val']:\n",
    "        losses = torch.zeros(eval_iters)\n",
    "        for k in range(eval_iters):\n",
    "            X, Y = get_batch(split)\n",
    "            logits, loss = model(X, Y)\n",
    "            losses[k] = loss.item()\n",
    "        out[split] = losses.mean()\n",
    "    model.train()\n",
    "    return out"
   ]
  },
  {
   "cell_type": "code",
   "execution_count": 9,
   "metadata": {},
   "outputs": [
    {
     "name": "stdout",
     "output_type": "stream",
     "text": [
      "['\\n', 't', '2', '”', 'A', 'O', '“', 'æ', 'd', '_', 'à', 'q', 'u', 'M', 'C', 'F', 'J', '1', 'à', 'r', 'æ', 'o', 'C', '1', '“', 's', 'k', 'h', 'z', 'U', '“', 'j', 'N', 'Z', 'G', '1', 'g', 'é', '“', '.', 's', 'E', 'c', '\\ufeff', '5', 'r', 'p', '0', 'B', '2', 'M', 'v', '8', 'Z', 's', ' ', 'L', 'Q', 'c', 'N', 'j', 'ê', 'V', 'é', 'V', 'N', 'Z', 'D', 'I', 'S', 'F', 'q', '-', 'é', 'V', 'H', 'ô', 'R', 'O', '\\ufeff', 'é', '\\ufeff', ':', 'O', 'é', 'A', 'Q', 'f', 'y', 'b', 'V', 'b', 'V', 'I', 'ô', 'à', 'q', 'f', 'U', 'e', 'ê', 'V', 'K', '—', 'ç', '_', 'é', '\\ufeff', 'x', 'o', 'ç', '-', '’', 'G', 's', 'z', 'U', '“', 's', '5', '.', 'V', 'E', 'L', '_', 'E', 'æ', 'z', '\\ufeff', 'A', 'N', 'j', 'k', 'x', '1', '”', '-', 'O', 'b', '\\ufeff', 'e', 'I', 'p', 'i', ' ', 'n', '0', 'r', 'd', 'f', '2', '?', 'l', 'y', 'x', 'k', 'k', 'a', 'y', 'b', 'P', 'P', '-', 'g', 'n', '0', '\\ufeff', '0', 'x', 'w', 'O', '0', 'Z', 'x', 'K', 't', 'l', '“', 'Y', ':', 'L', '2', 'à', 'A', 'H', 'd', 'l', 'n', '0', 'c', ',', 'v', 'ê', ',', 'ç', 'i', ':', 'G', 'u', '\\ufeff', 'Q', '0', 'Y', '\\n', 'g', '—', 'W', 'y', '-', 'Q', 'p', 'f', 'h', 'h', 'X', 'è', 'n', 'H', 'd', 'Z', 'F', 'G', 'ç', 'O', 'j', 'b', 'ç', ':', '’', 'i', 'v', 'b', 'H', 'm', 'ç', 'q', '-', 'é', 'i', '\\ufeff', '1', 'A', 'H', 'l', 'A', 's', '!', '2', 'v', '5', '—', 'b', 'R', 'q', 'K', 'O', 'j', ';', 'c', '\\ufeff', 'r', 'F', 'M', 'j', 'p', '5', 'æ', 'o', '_', '2', 'G', '-', 'q', 'k', 'n', 'Z', ',', 'M', 'O', 'A', 'q', '_', 'Q', ' ', 'Y', 'P', 'P', 'u', 'W', 'ô', 'B', 'W', 'L', '\\ufeff', '1', 'c', 'I', ',', 'E', '.', 'x', '‘', 'w', '-', '!', '‘', 'z', '\\ufeff', '1', '”', 'æ', ':', 'g', 'k', 'B', 'P', ';', '0', 'M', 'L', '2', 'G', 'b', '!', 'p', 'P', 'G', 'u', 'Z', 't', 'C', 'U', 't', 'm', 'l', 'y', 'D', 'J', 'v', 'b', 'X', 'W', 'K', 'r', 'o', 'C', '-', 'U', '_', 'N', 'i', 't', 'B', 'r', 'A', '\\n', '.', 'æ', 'o', ':', 'g', '1', 'L', 'C', 'v', 'v', 'g', 'T', 'H', 'g', 'I', 'p', 'P', 'D', 'I', 'ô', 'ê', 'f', 'ç', 'ê', 'p', 'k', 'S', ';', 'P', 'W', 'X', 's', 'z', '\\ufeff', '5', 'K', 'r', 'w', 'A', 'é', ',', 'q', 'i', 'd', 'é', 'k', 'c', 'A', 'i', 'é', 'j', 'P', 'T', 'æ', '5', 'U', 'C', 'f', '5', 'U', 't', 'g', 'W', 'X', 'è', 'x', 'C', '1', 'M', 'v', 'r', 'S', '8', 'r', 'x', '1', 'X', 'a', 'u', 'ô', 'j', 'r', '8', ',', 'D', 't', 'o', 'F', 'J', 'N', 'D', 'è', 'V', 'T', 'B', '1', 'I', 'r', 'N', '‘', 'A', 'O', 'à', 'H', '2', 'v', 'b', 'T', '“', 'K', '-', 'R', 'Y', 'r', 'n', 'X', 'M', 'à', '-', 'V', 'b', 'B', 'E', 'd', 'F', 'i', '\\ufeff', '0', '-', 'w', 'r', ',', 'n', 'ê', 'S', 'j', 'ê', '\\ufeff', 'H', 'i', '‘', '”', 'M', 'M', 'æ']\n"
     ]
    }
   ],
   "source": [
    "class Block(nn.Module):\n",
    "    def __init__(self, n_embd, n_head):\n",
    "        super().__init__()\n",
    "        head_size = n_embd // n_head\n",
    "        self.sa = MultiHeadAttention(n_head, hed_size)\n",
    "        self.ffwd = FeedForward(n_embd)\n",
    "        self.ln1 = nn.LayerNorm(n_embd)\n",
    "        self.ln2 = nn.LayerNorm(n_embd)\n",
    "        \n",
    "    def forward(self, x):\n",
    "        y = self.sa(x)\n",
    "        x = self\n",
    "        \n",
    "class GPT1LanguageModel(nn.Module):\n",
    "    def __init__(self, vocab_size):\n",
    "        super().__init__()\n",
    "        self.token_embedding_table = nn.Embedding(vocab_size,n_embd)\n",
    "        self.position_embedding_table = nn.Embedding(block_size,n_embd) # - info ~3:30\n",
    "        self.blocks = nn.Sequential(*[Block(n_embd, n_head = n_head) for _ in range(n_layer)])\n",
    "        self.ln_f = nn.LayerNorm(n_embd)\n",
    "        self.lm_head = nn.Linear(n_embd, vocab_size)\n",
    "        \n",
    "        self.apply(self._init_weights)\n",
    "    # info ~3:55\n",
    "    def _init_weights(self,module):\n",
    "        if isinstance(module,nn.Linear):\n",
    "            torch.nn.init.normal_(module.weight,mean = 0.0, std = 0.02)\n",
    "            if module.bias is not None:\n",
    "                torch.nn.init.zeros_(module.bias)\n",
    "        elif isinstance(module, nn.Embedding):\n",
    "            torch.nn.init.normal_(module.weight, mean = 0.0, std = 0.02)\n",
    "            \n",
    "\n",
    "    def forward(self, index, targets = None):\n",
    "        logits = self.token_embedding_table(index)\n",
    "\n",
    "        tok_emb = self.token_embedding_table(idx)\n",
    "        pos_emb = self.position_embedding_table(torch.arrange(T, device = device))\n",
    "        x = tok_emb + pos_emb # B,T,C\n",
    "        x = self.blocks(x) # B,T,C\n",
    "        x = self.ln_f(x) # B,T,C\n",
    "        logits = self.lm_head(x)# B,T,vocab_size\n",
    "\n",
    "        if targets is None:\n",
    "            loss = None\n",
    "        else:\n",
    "            B,T,C = logits.shape\n",
    "            logits = logits.view(B*T,C)\n",
    "            targets = targets.view(B*T)\n",
    "            loss = F.cross_entropy(logits, targets)\n",
    "        return logits, loss\n",
    "    \n",
    "    def generate(self,index, max_new_tokens):\n",
    "        for _ in range(max_new_tokens):\n",
    "            logits, loss = self.forward(index)\n",
    "\n",
    "            logits = logits[:, -1, :]\n",
    "            probs = F.softmax(logits,dim=-1)\n",
    "            index_next = torch.multinomial(probs, num_samples=1)\n",
    "            index = torch.cat((index,index_next),dim=1)\n",
    "        return index\n",
    "    \n",
    "model = GPT1LanguageModel(vocab_size)\n",
    "m = model.to(device)\n",
    "\n",
    "context = torch.zeros((1,1), dtype = torch.long, device=device)\n",
    "generated_chars = decode(m.generate(context, max_new_tokens = 500)[0].tolist())\n",
    "print(generated_chars)"
   ]
  },
  {
   "cell_type": "markdown",
   "metadata": {},
   "source": [
    "# Optimizer"
   ]
  },
  {
   "cell_type": "code",
   "execution_count": 10,
   "metadata": {},
   "outputs": [
    {
     "name": "stdout",
     "output_type": "stream",
     "text": [
      "strp: 0, train loss: 4.755, val loss: 4.743\n",
      "strp: 250, train loss: 4.700, val loss: 4.709\n",
      "strp: 500, train loss: 4.614, val loss: 4.646\n",
      "strp: 750, train loss: 4.570, val loss: 4.577\n",
      "strp: 1000, train loss: 4.508, val loss: 4.533\n",
      "strp: 1250, train loss: 4.454, val loss: 4.463\n",
      "strp: 1500, train loss: 4.400, val loss: 4.404\n",
      "strp: 1750, train loss: 4.350, val loss: 4.343\n",
      "strp: 2000, train loss: 4.297, val loss: 4.275\n",
      "strp: 2250, train loss: 4.226, val loss: 4.232\n",
      "strp: 2500, train loss: 4.174, val loss: 4.178\n",
      "strp: 2750, train loss: 4.145, val loss: 4.133\n",
      "strp: 3000, train loss: 4.067, val loss: 4.075\n",
      "strp: 3250, train loss: 4.034, val loss: 4.033\n",
      "strp: 3500, train loss: 3.987, val loss: 3.997\n",
      "strp: 3750, train loss: 3.956, val loss: 3.944\n",
      "strp: 4000, train loss: 3.910, val loss: 3.904\n",
      "strp: 4250, train loss: 3.875, val loss: 3.856\n",
      "strp: 4500, train loss: 3.829, val loss: 3.836\n",
      "strp: 4750, train loss: 3.776, val loss: 3.787\n",
      "strp: 5000, train loss: 3.727, val loss: 3.743\n",
      "strp: 5250, train loss: 3.692, val loss: 3.682\n",
      "strp: 5500, train loss: 3.646, val loss: 3.662\n",
      "strp: 5750, train loss: 3.621, val loss: 3.640\n",
      "strp: 6000, train loss: 3.586, val loss: 3.578\n",
      "strp: 6250, train loss: 3.537, val loss: 3.551\n",
      "strp: 6500, train loss: 3.523, val loss: 3.516\n",
      "strp: 6750, train loss: 3.485, val loss: 3.494\n",
      "strp: 7000, train loss: 3.454, val loss: 3.459\n",
      "strp: 7250, train loss: 3.427, val loss: 3.407\n",
      "strp: 7500, train loss: 3.390, val loss: 3.381\n",
      "strp: 7750, train loss: 3.372, val loss: 3.366\n",
      "strp: 8000, train loss: 3.316, val loss: 3.342\n",
      "strp: 8250, train loss: 3.303, val loss: 3.329\n",
      "strp: 8500, train loss: 3.263, val loss: 3.297\n",
      "strp: 8750, train loss: 3.243, val loss: 3.276\n",
      "strp: 9000, train loss: 3.234, val loss: 3.244\n",
      "strp: 9250, train loss: 3.242, val loss: 3.220\n",
      "strp: 9500, train loss: 3.165, val loss: 3.199\n",
      "strp: 9750, train loss: 3.160, val loss: 3.164\n",
      "3.183180332183838\n"
     ]
    }
   ],
   "source": [
    "optimizer = torch.optim.AdamW(model.parameters(), lr = learning_rate)\n",
    "\n",
    "for iter in range(max_iters):\n",
    "    if iter % eval_iters == 0:\n",
    "        losses = estimate_loss()\n",
    "        print(f\"strp: {iter}, train loss: {losses['train']:.3f}, val loss: {losses['val']:.3f}\")\n",
    "\n",
    "    xb, yb = get_batch('train')\n",
    "\n",
    "    logits, loss = model.forward(xb, yb)\n",
    "    optimizer.zero_grad(set_to_none=True)\n",
    "    loss.backward()\n",
    "    optimizer.step()\n",
    "print(loss.item())"
   ]
  },
  {
   "cell_type": "code",
   "execution_count": null,
   "metadata": {},
   "outputs": [],
   "source": []
  },
  {
   "cell_type": "code",
   "execution_count": null,
   "metadata": {},
   "outputs": [],
   "source": []
  }
 ],
 "metadata": {
  "kernelspec": {
   "display_name": "cuda-gpt",
   "language": "python",
   "name": "cuda"
  },
  "language_info": {
   "codemirror_mode": {
    "name": "ipython",
    "version": 3
   },
   "file_extension": ".py",
   "mimetype": "text/x-python",
   "name": "python",
   "nbconvert_exporter": "python",
   "pygments_lexer": "ipython3",
   "version": "3.9.12"
  }
 },
 "nbformat": 4,
 "nbformat_minor": 4
}
