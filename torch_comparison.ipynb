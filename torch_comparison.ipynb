{
 "cells": [
  {
   "cell_type": "code",
   "execution_count": 1,
   "id": "581e2b6e-2e24-47ad-80bf-4442411b54b5",
   "metadata": {},
   "outputs": [],
   "source": [
    "import torch\n",
    "import numpy as np\n",
    "import time\n",
    "device = 'cuda' if torch.cuda.is_available() else 'gpu'\n",
    " "
   ]
  },
  {
   "cell_type": "markdown",
   "id": "673fdf6b-f174-4ef5-8f72-3ade7604e613",
   "metadata": {},
   "source": [
    "# lets check the difference in performance between gpu and cpu"
   ]
  },
  {
   "cell_type": "code",
   "execution_count": 2,
   "id": "42da697f-ac91-4768-a7c0-4814e9494624",
   "metadata": {},
   "outputs": [
    {
     "name": "stdout",
     "output_type": "stream",
     "text": [
      " 0.011006\n",
      "CPU times: total: 15.6 ms\n",
      "Wall time: 11 ms\n"
     ]
    }
   ],
   "source": [
    "%%time\n",
    "start_time = time.time()\n",
    "zeros = torch.zeros(1,1)\n",
    "end_time = time.time()\n",
    "\n",
    "elapsed_time = end_time - start_time\n",
    "print(f\"{ elapsed_time: 8f}\")"
   ]
  },
  {
   "cell_type": "code",
   "execution_count": 3,
   "id": "572fae8a-a546-45cd-8742-9e42c796681a",
   "metadata": {},
   "outputs": [
    {
     "name": "stdout",
     "output_type": "stream",
     "text": [
      " 0.149936\n",
      " 0.180002\n"
     ]
    }
   ],
   "source": [
    "torch_rand1 = torch.rand(110,110,110,110).to(device)\n",
    "torch_rand2 = torch.rand(110,110,110,110).to(device)\n",
    "np_rand1 = torch.rand(110,110,110,110)\n",
    "np_rand2 = torch.rand(110,110,110,110)\n",
    "\n",
    "start_time = time.time()\n",
    "rand = (torch_rand1 @ torch_rand2)\n",
    "end_time = time.time()\n",
    "\n",
    "elapsed_time = end_time - start_time\n",
    "print(f\"{elapsed_time: 8f}\")\n",
    "\n",
    "start_time = time.time()\n",
    "rand = np.multiply(np_rand1,np_rand2)\n",
    "end_time = time.time()\n",
    "\n",
    "elapsed_time = end_time - start_time\n",
    "print(f\"{elapsed_time: 8f}\")\n"
   ]
  },
  {
   "cell_type": "markdown",
   "id": "2862d8ba-1842-41de-889a-324fe596282b",
   "metadata": {},
   "source": [
    "# a little bite about embedding"
   ]
  },
  {
   "cell_type": "code",
   "execution_count": 4,
   "id": "38fcf2b7-312d-40d8-a15e-09bdd78df6b9",
   "metadata": {},
   "outputs": [
    {
     "name": "stdout",
     "output_type": "stream",
     "text": [
      "Embedding(1000, 100)\n",
      "torch.Size([4, 100])\n"
     ]
    }
   ],
   "source": [
    "import torch.nn as nn\n",
    "#initialize the layer\n",
    "vocab_size = 1000\n",
    "embedding_dim = 100\n",
    "embedding = nn.Embedding(vocab_size, embedding_dim)\n",
    "print(embedding)\n",
    "# create some input indices\n",
    "input_indices = torch.LongTensor([1, 5, 4, 2])\n",
    "\n",
    "#apply the embedding layer\n",
    "embedded_output = embedding(input_indices)\n",
    "\n",
    "#the output will be a tensor of shape(4,100), where 4 is the number of inputs\n",
    "# and 100 is the dimensionality of the embedding vectors\n",
    "print(embedded_output.shape)"
   ]
  }
 ],
 "metadata": {
  "kernelspec": {
   "display_name": "cuda-gpt",
   "language": "python",
   "name": "cuda"
  },
  "language_info": {
   "codemirror_mode": {
    "name": "ipython",
    "version": 3
   },
   "file_extension": ".py",
   "mimetype": "text/x-python",
   "name": "python",
   "nbconvert_exporter": "python",
   "pygments_lexer": "ipython3",
   "version": "3.9.12"
  }
 },
 "nbformat": 4,
 "nbformat_minor": 5
}
